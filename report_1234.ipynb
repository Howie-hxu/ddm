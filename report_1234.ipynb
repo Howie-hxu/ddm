{
 "cells": [
  {
   "cell_type": "code",
   "execution_count": 2,
   "metadata": {
    "collapsed": true
   },
   "outputs": [],
   "source": [
    "import pandas as pd\n",
    "import numpy as np\n",
    "import media as me\n",
    "import datetime,calendar\n",
    "\n",
    "originalSheet = pd.read_excel(\"1.xls\",skiprows=7)"
   ]
  },
  {
   "cell_type": "code",
   "execution_count": 4,
   "metadata": {
    "collapsed": true
   },
   "outputs": [],
   "source": [
    "sameRowsDict = dict()\n",
    "for index in range(len(originalSheet['科目名称'])):\n",
    "    if originalSheet['科目名称'][index] not in sameRowsDict :\n",
    "        sameRowsDict[originalSheet['科目名称'][index]] = list()\n",
    "    sameRowsDict[originalSheet['科目名称'][index]].append(index)"
   ]
  },
  {
   "cell_type": "code",
   "execution_count": 5,
   "metadata": {
    "collapsed": true
   },
   "outputs": [],
   "source": [
    "items,debtors,lenders,totals = list(),list(),list(),list()\n",
    "\n",
    "for key in sameRowsDict:\n",
    "    value = sameRowsDict[key]\n",
    "    items.append(key)\n",
    "    debtorSum = 0.0\n",
    "    lenderSum = 0.0\n",
    "    \n",
    "    for index in value:\n",
    "        debtorSum += float(originalSheet['原币借方发生额'][index])\n",
    "        lenderSum +=  float(originalSheet['原币贷方发生额'][index])\n",
    "    debtors.append(debtorSum)\n",
    "    lenders.append(lenderSum)\n",
    "    totals.append(debtorSum - lenderSum)"
   ]
  },
  {
   "cell_type": "code",
   "execution_count": 6,
   "metadata": {
    "collapsed": true
   },
   "outputs": [],
   "source": [
    "proportionSheet = pd.read_excel(\"23.xls\",sheetname=\"人员\")\n",
    "projectNames , projectProportions = proportionSheet[\"项目名称\"],proportionSheet[\"占比\"]\n"
   ]
  },
  {
   "cell_type": "code",
   "execution_count": 7,
   "metadata": {
    "collapsed": true
   },
   "outputs": [],
   "source": [
    "projectProportionsList = list(projectProportions)\n",
    "totalMartix = np.array(totals).reshape(len(totals),1)\n",
    "projectProportionsMatrix = np.array(projectProportionsList).reshape(1,len(projectProportionsList))\n",
    "result = np.dot(totalMartix,projectProportionsMatrix)"
   ]
  },
  {
   "cell_type": "code",
   "execution_count": 8,
   "metadata": {
    "collapsed": true
   },
   "outputs": [],
   "source": [
    "year = datetime.date.today().year\n",
    "\n",
    "month= datetime.date.today().month\n",
    "monthRange = calendar.monthrange(year, month)[1]\n",
    "mmddyyyy = str(month)+\"/\"+str(monthRange)+\"/\"+str(year)\n",
    "\n",
    "month = \"%02d\" % month\n",
    "digest = str(year)[2:]+month+\"上海威灵研发项目资本化分摊\"\n",
    "\n",
    "for key in me.output:\n",
    "    me.output[key].clear()\n",
    "\n",
    "for i in range(len(items)):\n",
    "    if(items[i] in me.selectType):\n",
    "        for j in range(len(result[i,:])):\n",
    "            if(projectNames[j] in me.item2code ):\n",
    "                me.output['预算来源'].append(me.budgetSource[items[i]])\n",
    "                me.output['预算树'].append('2018-预算-部品事业部-先行研究中心'+' '+items[i])\n",
    "                me.output['费用类型'].append(items[i])\n",
    "                me.output['借/贷类型'].append('借')\n",
    "                if projectNames[j] == 'zongbu':\n",
    "                    result[i][j] = -1.0 * result[i][j]\n",
    "                monkey = round(result[i][j],2)\n",
    "                me.output['金额'].append(monkey)\n",
    "                me.output['本位币金额'].append(monkey)\n",
    "                me.output['批准金额'].append(monkey)\n",
    "                \n",
    "                me.output['币种'].append('人民币')\n",
    "                me.output['汇率'].append(1)\n",
    "                me.output['费用发生日期'].append(mmddyyyy)\n",
    "                me.output['导ERP方式'].append('GL日记账')\n",
    "                me.output['摘要'].append(digest)\n",
    "                me.output['项目号'].append(me.item2code[projectNames[j]])\n",
    "                me.output['事业部名称'].append('部品事业部')\n",
    "                me.output['businessCode'].append('30003088')\n"
   ]
  },
  {
   "cell_type": "code",
   "execution_count": 9,
   "metadata": {},
   "outputs": [
    {
     "name": "stdout",
     "output_type": "stream",
     "text": [
      "[[-0. -0. -0. ...,  0.  0.  0.]\n",
      " [-0. -0. -0. ...,  0.  0.  0.]\n",
      " [ 0.  0.  0. ...,  0.  0.  0.]\n",
      " ..., \n",
      " [ 0.  0.  0. ...,  0.  0.  0.]\n",
      " [ 0.  0.  0. ...,  0.  0.  0.]\n",
      " [ 0.  0.  0. ...,  0.  0.  0.]]\n"
     ]
    }
   ],
   "source": [
    "\n",
    "result = np.nan_to_num(result)\n",
    "print(result)\n"
   ]
  },
  {
   "cell_type": "code",
   "execution_count": 37,
   "metadata": {},
   "outputs": [
    {
     "name": "stdout",
     "output_type": "stream",
     "text": [
      "[[1 2]\n",
      " [3 4]]\n"
     ]
    },
    {
     "data": {
      "text/plain": [
       "array([3, 7])"
      ]
     },
     "execution_count": 37,
     "metadata": {},
     "output_type": "execute_result"
    }
   ],
   "source": [
    "x = np.array([[1,2],[3,4]])\n",
    "print(x)\n",
    "x.sum(axis=1)"
   ]
  },
  {
   "cell_type": "code",
   "execution_count": 7,
   "metadata": {
    "collapsed": true
   },
   "outputs": [],
   "source": [
    "emptyList = list()\n",
    "for index in range(len(me.output['预算来源'])):\n",
    "    emptyList.append('')\n",
    "\n",
    "sumSheet = pd.DataFrame()\n",
    "for key in me.output:\n",
    "    if(len(me.output[key]) == 0):\n",
    "        me.output[key] = emptyList\n",
    "    sumSheet[key] = me.output[key]"
   ]
  },
  {
   "cell_type": "code",
   "execution_count": 8,
   "metadata": {
    "collapsed": true
   },
   "outputs": [],
   "source": [
    "writer = pd.ExcelWriter('output.xls')\n",
    "sumSheet.to_excel(writer,'导入底稿',index=False)\n",
    "writer.save()"
   ]
  },
  {
   "cell_type": "code",
   "execution_count": null,
   "metadata": {
    "collapsed": true
   },
   "outputs": [],
   "source": []
  },
  {
   "cell_type": "code",
   "execution_count": null,
   "metadata": {
    "collapsed": true
   },
   "outputs": [],
   "source": []
  },
  {
   "cell_type": "code",
   "execution_count": null,
   "metadata": {
    "collapsed": true
   },
   "outputs": [],
   "source": []
  },
  {
   "cell_type": "code",
   "execution_count": null,
   "metadata": {
    "collapsed": true
   },
   "outputs": [],
   "source": []
  },
  {
   "cell_type": "code",
   "execution_count": null,
   "metadata": {
    "collapsed": true
   },
   "outputs": [],
   "source": []
  },
  {
   "cell_type": "code",
   "execution_count": null,
   "metadata": {
    "collapsed": true
   },
   "outputs": [],
   "source": []
  },
  {
   "cell_type": "code",
   "execution_count": null,
   "metadata": {
    "collapsed": true
   },
   "outputs": [],
   "source": []
  },
  {
   "cell_type": "code",
   "execution_count": null,
   "metadata": {
    "collapsed": true
   },
   "outputs": [],
   "source": []
  }
 ],
 "metadata": {
  "kernelspec": {
   "display_name": "Python 3",
   "language": "python",
   "name": "python3"
  },
  "language_info": {
   "codemirror_mode": {
    "name": "ipython",
    "version": 3
   },
   "file_extension": ".py",
   "mimetype": "text/x-python",
   "name": "python",
   "nbconvert_exporter": "python",
   "pygments_lexer": "ipython3",
   "version": "3.5.4"
  }
 },
 "nbformat": 4,
 "nbformat_minor": 2
}
